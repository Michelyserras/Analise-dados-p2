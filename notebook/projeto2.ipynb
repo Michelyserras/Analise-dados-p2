{
 "cells": [
  {
   "cell_type": "markdown",
   "id": "8e88c192",
   "metadata": {},
   "source": [
    "## **Projeto 2:** Este trabalho possui o objetivo de aplicar os conceitos de classificação de algoritmos e regressão vistos durante as aulas de análise de dados. \n"
   ]
  },
  {
   "cell_type": "markdown",
   "id": "dad8f413",
   "metadata": {},
   "source": [
    "<hr>"
   ]
  },
  {
   "cell_type": "markdown",
   "id": "7999e50b",
   "metadata": {},
   "source": [
    "## **Base 08: Vendas Automotivas**.\n",
    "\n",
    "\n",
    "\n",
    "### ***1. Análise Inicial dos Dados***\n",
    "\n",
    "#### ***Descrição geral da base***:\n",
    " A base apresenta dados sobre os pedidos realizados em uma empresa do setor automobilístico, em conjunto a informações que permitem avaliar o desempenho de vendas, os perfis de clientes e os padrões de compras. Dessa forma, é possível analisar e levantar hipóteses sobre fatores que influenciam os resultados comerciais da empresa.\n",
    "\n",
    "\n",
    "#### **1.2 Dicionário de Dados Traduzido** \n",
    "\n",
    "- **orderNumber**:  Numero de identificação do pedido.\n",
    "- **QuantityOrdered**:  Quantidade de itens solicitados.\n",
    "- **PriceEach**:  Preço unitário de cada item.\n",
    "- **OrderLineNumber**:  Número da linha dentro do pedido.\n",
    "- **Sales**:  Total da venda (quantidade x preço).\n",
    "- **OrderDate**:  Data do pedido.\n",
    "- **Days_Since_LastOrder**:  Dias desde o ultimo pedido do cliente.\n",
    "- **Status**:  Status do pedido (ex: Enviado, Em Processamento, Cancelado).\n",
    "- **ProductLine**:  Categoria do produto.\n",
    "- **MSRP**:  Preço sugerido pelo fabricante.\n",
    "- **CustomerName**:  Nome do cliente.\n",
    "- **Phone**:  Telefone de contato do Cliente.\n",
    "- **Addressline1**:  Endereço do cliente.\n",
    "- **City**:  Cidade do cliente.\n",
    "- **Postalcode**:  Código posral do cliente.\n",
    "- **Country**:  País do cliente.\n",
    "- **ContactLastName**: Sobrenome do contato\n",
    "- **ContactFirstName**:  Nome do Contato.\n",
    "- **ProductCode**: Código do produto.\n",
    "- **Dealsize**:  Tamanho do pedido (Pequeno, Médio, Grande).\n",
    "\n",
    "\n",
    "**Número de Registros: 2747**\n",
    "\n",
    "<hr>"
   ]
  },
  {
   "cell_type": "markdown",
   "id": "37c24f19",
   "metadata": {},
   "source": [
    "### **1. Obtenção dos dados**"
   ]
  },
  {
   "cell_type": "markdown",
   "id": "c96fceb7",
   "metadata": {},
   "source": []
  },
  {
   "cell_type": "code",
   "execution_count": 1,
   "id": "e5d660a6",
   "metadata": {},
   "outputs": [
    {
     "name": "stdout",
     "output_type": "stream",
     "text": [
      "Os dados foram carregados corretamente.\n"
     ]
    }
   ],
   "source": [
    "import pandas as pd\n",
    "import numpy as np\n",
    "from sklearn.model_selection import train_test_split\n",
    "from sklearn.linear_model import LinearRegression\n",
    "from sklearn.metrics import mean_squared_error\n",
    "from math import sqrt\n",
    "import seaborn as sns\n",
    "import matplotlib.pyplot as plt\n",
    "from sklearn.metrics import r2_score\n",
    "from scipy import stats\n",
    "from sklearn.tree import DecisionTreeRegressor\n",
    "from sklearn.ensemble import RandomForestRegressor\n",
    "from sklearn.svm import SVR\n",
    "from sklearn.pipeline import make_pipeline\n",
    "from sklearn.metrics import (\n",
    "    accuracy_score, precision_score,\n",
    "    recall_score, f1_score, confusion_matrix\n",
    ")\n",
    "\n",
    "from sklearn.linear_model import LogisticRegression\n",
    "from sklearn.tree import DecisionTreeClassifier\n",
    "from sklearn.ensemble import RandomForestClassifier\n",
    "from sklearn.svm import SVC\n",
    "from sklearn.neighbors import KNeighborsClassifier\n",
    "from sklearn.preprocessing import OneHotEncoder, LabelEncoder, StandardScaler\n",
    "\n",
    "\n",
    "\n",
    "filePath = '../database/08_vendas_automotivas.csv'\n",
    "df = pd.read_csv(filePath, sep=',')\n",
    "\n",
    "if not df.empty:\n",
    "    print(\"Os dados foram carregados corretamente.\")\n",
    "else:\n",
    "    print(\"Erro ao obter dados.\")\n",
    "     "
   ]
  }
 ],
 "metadata": {
  "kernelspec": {
   "display_name": "Python 3",
   "language": "python",
   "name": "python3"
  },
  "language_info": {
   "codemirror_mode": {
    "name": "ipython",
    "version": 3
   },
   "file_extension": ".py",
   "mimetype": "text/x-python",
   "name": "python",
   "nbconvert_exporter": "python",
   "pygments_lexer": "ipython3",
   "version": "3.12.3"
  }
 },
 "nbformat": 4,
 "nbformat_minor": 5
}
